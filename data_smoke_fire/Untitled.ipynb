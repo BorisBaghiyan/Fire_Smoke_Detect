{
 "cells": [
  {
   "cell_type": "code",
   "execution_count": 1,
   "id": "1b3e3d2b-8abd-4ca0-99bf-30597e405a05",
   "metadata": {},
   "outputs": [],
   "source": [
    "import numpy as np\n",
    "import pandas as pd\n",
    "import seaborn as sns\n",
    "import matplotlib.pyplot as plt\n",
    "import matplotlib.image as mpimg\n",
    "import os\n",
    "import cv2"
   ]
  },
  {
   "cell_type": "code",
   "execution_count": 2,
   "id": "3dc093b6-915a-4f66-9eeb-e5394f0ac1e6",
   "metadata": {},
   "outputs": [],
   "source": [
    "X_train_smok = []\n",
    "y_train_smok = []\n",
    "\n",
    "for i in os.listdir('images/train/'):\n",
    "    try:\n",
    "        if i.startswith('sm'):\n",
    "            image = cv2.imread(f'images/train/{i}')\n",
    "            image = cv2.cvtColor(image, cv2.COLOR_BGR2GRAY)\n",
    "            image = cv2.resize(image, (250, 250))\n",
    "            image = image.reshape(250, 250, 1)\n",
    "            X_train_smok.append(image)\n",
    "            y_train_smok.append(1)\n",
    "    except:\n",
    "        continue\n",
    "X_train_smok = np.array(X_train_smok)\n",
    "y_train_smok = np.array(y_train_smok)"
   ]
  },
  {
   "cell_type": "code",
   "execution_count": 3,
   "id": "6793bb59-f77f-4760-9bf6-7b226f0b43e6",
   "metadata": {},
   "outputs": [
    {
     "data": {
      "text/plain": [
       "(298, 250, 250, 1)"
      ]
     },
     "execution_count": 3,
     "metadata": {},
     "output_type": "execute_result"
    }
   ],
   "source": [
    "X_train_smok.shape"
   ]
  },
  {
   "cell_type": "code",
   "execution_count": 4,
   "id": "29fa4e07-e855-42f2-ac12-d42fc36d9187",
   "metadata": {},
   "outputs": [
    {
     "data": {
      "text/plain": [
       "(298,)"
      ]
     },
     "execution_count": 4,
     "metadata": {},
     "output_type": "execute_result"
    }
   ],
   "source": [
    "y_train_smok.shape"
   ]
  },
  {
   "cell_type": "code",
   "execution_count": 5,
   "id": "eedd32db-2ea2-42d4-b547-efc8e184dfdf",
   "metadata": {},
   "outputs": [],
   "source": [
    "X_train_fire = []\n",
    "y_train_fire = []\n",
    "\n",
    "for i in os.listdir('images/train/'):\n",
    "    try:\n",
    "        if i[0:1]!= 'sm':\n",
    "            image = cv2.imread(f'images/train/{i}')\n",
    "            image = cv2.cvtColor(image, cv2.COLOR_BGR2GRAY)\n",
    "            image = cv2.resize(image, (250, 250))\n",
    "            image = image.reshape(250, 250, 1)\n",
    "            X_train_fire.append(image)\n",
    "            y_train_fire.append(0)\n",
    "    except:\n",
    "        continue\n",
    "X_train_fire = np.array(X_train_fire)\n",
    "y_train_fire = np.array(y_train_fire)"
   ]
  },
  {
   "cell_type": "code",
   "execution_count": 6,
   "id": "e6b01c7c-03b3-4ffa-86a7-1cb396129e4e",
   "metadata": {},
   "outputs": [
    {
     "data": {
      "text/plain": [
       "(1142, 250, 250, 1)"
      ]
     },
     "execution_count": 6,
     "metadata": {},
     "output_type": "execute_result"
    }
   ],
   "source": [
    "X_train_fire.shape"
   ]
  },
  {
   "cell_type": "code",
   "execution_count": 7,
   "id": "0009464e-bdaa-40d5-ad45-365ba8c2d00b",
   "metadata": {},
   "outputs": [
    {
     "data": {
      "text/plain": [
       "(1142,)"
      ]
     },
     "execution_count": 7,
     "metadata": {},
     "output_type": "execute_result"
    }
   ],
   "source": [
    "y_train_fire.shape"
   ]
  },
  {
   "cell_type": "code",
   "execution_count": 8,
   "id": "6dae25a7-ff6b-4eb9-9216-cc9f1615da8e",
   "metadata": {},
   "outputs": [],
   "source": [
    "X_val_smok = []\n",
    "y_val_smok = []\n",
    "\n",
    "for i in os.listdir('474_fire_val/images/val/'):\n",
    "    try:\n",
    "        if not i.startswith('sm'):\n",
    "            image = cv2.imread(f'474_fire_val/images/val/{i}')\n",
    "            image = cv2.cvtColor(image, cv2.COLOR_BGR2GRAY)\n",
    "            image = cv2.resize(image, (250, 250))\n",
    "            image = image.reshape(250, 250, 1)\n",
    "            X_val_smok.append(image)\n",
    "            y_val_smok.append(1)\n",
    "    except Exception as e:\n",
    "        continue\n",
    "\n",
    "X_val_smok = np.array(X_val_smok)\n",
    "y_val_smok = np.array(y_val_smok)\n"
   ]
  },
  {
   "cell_type": "code",
   "execution_count": 9,
   "id": "ab4c8286-53c0-4dad-8887-befdac579df8",
   "metadata": {},
   "outputs": [
    {
     "data": {
      "text/plain": [
       "(271, 250, 250, 1)"
      ]
     },
     "execution_count": 9,
     "metadata": {},
     "output_type": "execute_result"
    }
   ],
   "source": [
    "X_val_smok.shape"
   ]
  },
  {
   "cell_type": "code",
   "execution_count": 10,
   "id": "ede827a0-05ae-4674-b3f8-dc081c8c0a58",
   "metadata": {},
   "outputs": [
    {
     "data": {
      "text/plain": [
       "(271,)"
      ]
     },
     "execution_count": 10,
     "metadata": {},
     "output_type": "execute_result"
    }
   ],
   "source": [
    "y_val_smok.shape"
   ]
  },
  {
   "cell_type": "code",
   "execution_count": 11,
   "id": "e97953f7-9900-45dc-af71-171ab178dbae",
   "metadata": {},
   "outputs": [],
   "source": [
    "X_val_fire = []\n",
    "y_val_fire = []\n",
    "\n",
    "for i in os.listdir('474_fire_val/images/val/'):\n",
    "    try:\n",
    "        if i[0:1]!= 'sm':\n",
    "            image = cv2.imread(f'474_fire_val/images/val/{i}')\n",
    "            image = cv2.cvtColor(image, cv2.COLOR_BGR2GRAY)\n",
    "            image = cv2.resize(image, (250, 250))\n",
    "            image = image.reshape(250, 250, 1)\n",
    "            X_val_fire.append(image)\n",
    "            y_val_fire.append(0)\n",
    "    except:\n",
    "        continue\n",
    "X_val_fire = np.array(X_val_fire)\n",
    "y_val_fire = np.array(y_val_fire)"
   ]
  },
  {
   "cell_type": "code",
   "execution_count": 12,
   "id": "5fb5eca1-6f54-48f3-b84f-aad50377e75f",
   "metadata": {},
   "outputs": [
    {
     "data": {
      "text/plain": [
       "(307, 250, 250, 1)"
      ]
     },
     "execution_count": 12,
     "metadata": {},
     "output_type": "execute_result"
    }
   ],
   "source": [
    "X_val_fire.shape"
   ]
  },
  {
   "cell_type": "code",
   "execution_count": 13,
   "id": "9a31fe6a-b61b-4be8-8721-284a97acc730",
   "metadata": {},
   "outputs": [
    {
     "data": {
      "text/plain": [
       "(307,)"
      ]
     },
     "execution_count": 13,
     "metadata": {},
     "output_type": "execute_result"
    }
   ],
   "source": [
    "y_val_fire.shape"
   ]
  },
  {
   "cell_type": "code",
   "execution_count": 14,
   "id": "0e841e85-4e34-4063-9f12-b274f8813782",
   "metadata": {},
   "outputs": [],
   "source": [
    "y_val = np.concatenate((y_val_fire, y_val_smok))\n",
    "y_train = np.concatenate((y_train_fire,y_train_smok))"
   ]
  },
  {
   "cell_type": "code",
   "execution_count": 15,
   "id": "78058940-4550-4076-b9d2-31f55f5906b9",
   "metadata": {},
   "outputs": [],
   "source": [
    "X_val = np.concatenate((X_val_fire, X_val_smok))\n",
    "X_train = np.concatenate((X_train_fire,X_train_smok))"
   ]
  },
  {
   "cell_type": "code",
   "execution_count": 16,
   "id": "afd4db88-3880-497a-8118-5eaed752763b",
   "metadata": {},
   "outputs": [],
   "source": [
    "from keras.utils import to_categorical"
   ]
  },
  {
   "cell_type": "code",
   "execution_count": 17,
   "id": "bc5b3cb6-23d4-4ef2-8d06-82adc2af56e6",
   "metadata": {},
   "outputs": [],
   "source": [
    "y_val = to_categorical(y_val,num_classes=2)\n",
    "y_train = to_categorical(y_train,num_classes=2)"
   ]
  },
  {
   "cell_type": "code",
   "execution_count": 18,
   "id": "c6b6d225-170b-4afe-af36-801be1ef7b75",
   "metadata": {},
   "outputs": [],
   "source": [
    "from keras import Sequential"
   ]
  },
  {
   "cell_type": "code",
   "execution_count": 19,
   "id": "f724baa5-d774-4257-aaf7-e2f1a5ccca3c",
   "metadata": {},
   "outputs": [],
   "source": [
    "from keras.layers import Conv2D, MaxPooling2D, Flatten, Dense, Dropout"
   ]
  },
  {
   "cell_type": "code",
   "execution_count": 43,
   "id": "93588d5a-8b4e-43bc-ab39-6f2f44bbe658",
   "metadata": {},
   "outputs": [],
   "source": [
    "model = Sequential()\n",
    "\n",
    "model.add(Conv2D(filters=64, kernel_size=(3, 3), padding='same', activation='relu', input_shape=(250, 250, 1)))\n",
    "model.add(MaxPooling2D(pool_size=(2, 2)))\n",
    "\n",
    "model.add(Conv2D(filters=64, kernel_size=(3, 3), padding='same', activation='relu'))\n",
    "model.add(MaxPooling2D(pool_size=(2, 2)))\n",
    "\n",
    "model.add(Flatten())\n",
    "\n",
    "\n",
    "model.add(Dense(32, activation='relu'))\n",
    "model.add(Dropout(0,5))\n",
    "model.add(Dense(16, activation='relu'))\n",
    "model.add(Dense(8, activation='relu'))\n",
    "model.add(Dense(2, activation='softmax'))"
   ]
  },
  {
   "cell_type": "code",
   "execution_count": 44,
   "id": "d7a788da-7f7d-4b3c-b158-480e2108e5fe",
   "metadata": {},
   "outputs": [],
   "source": [
    "model.compile(optimizer='adam', loss='categorical_crossentropy', metrics=['accuracy'])"
   ]
  },
  {
   "cell_type": "code",
   "execution_count": 45,
   "id": "f16fb239-cc92-43a3-b949-8d6047ad7529",
   "metadata": {},
   "outputs": [
    {
     "name": "stdout",
     "output_type": "stream",
     "text": [
      "Epoch 1/10\n",
      "\u001b[1m45/45\u001b[0m \u001b[32m━━━━━━━━━━━━━━━━━━━━\u001b[0m\u001b[37m\u001b[0m \u001b[1m27s\u001b[0m 592ms/step - accuracy: 0.6258 - loss: 16.6757 - val_accuracy: 0.5294 - val_loss: 0.6925\n",
      "Epoch 2/10\n",
      "\u001b[1m45/45\u001b[0m \u001b[32m━━━━━━━━━━━━━━━━━━━━\u001b[0m\u001b[37m\u001b[0m \u001b[1m26s\u001b[0m 567ms/step - accuracy: 0.7958 - loss: 0.6428 - val_accuracy: 0.5294 - val_loss: 0.7787\n",
      "Epoch 3/10\n",
      "\u001b[1m45/45\u001b[0m \u001b[32m━━━━━━━━━━━━━━━━━━━━\u001b[0m\u001b[37m\u001b[0m \u001b[1m26s\u001b[0m 569ms/step - accuracy: 0.7862 - loss: 0.5620 - val_accuracy: 0.5294 - val_loss: 0.9185\n",
      "Epoch 4/10\n",
      "\u001b[1m45/45\u001b[0m \u001b[32m━━━━━━━━━━━━━━━━━━━━\u001b[0m\u001b[37m\u001b[0m \u001b[1m26s\u001b[0m 586ms/step - accuracy: 0.8010 - loss: 0.4791 - val_accuracy: 0.5311 - val_loss: 0.7995\n",
      "Epoch 5/10\n",
      "\u001b[1m45/45\u001b[0m \u001b[32m━━━━━━━━━━━━━━━━━━━━\u001b[0m\u001b[37m\u001b[0m \u001b[1m26s\u001b[0m 577ms/step - accuracy: 0.7938 - loss: 0.4577 - val_accuracy: 0.5311 - val_loss: 1.0868\n",
      "Epoch 6/10\n",
      "\u001b[1m45/45\u001b[0m \u001b[32m━━━━━━━━━━━━━━━━━━━━\u001b[0m\u001b[37m\u001b[0m \u001b[1m25s\u001b[0m 564ms/step - accuracy: 0.7965 - loss: 0.4239 - val_accuracy: 0.5311 - val_loss: 1.0934\n",
      "Epoch 7/10\n",
      "\u001b[1m45/45\u001b[0m \u001b[32m━━━━━━━━━━━━━━━━━━━━\u001b[0m\u001b[37m\u001b[0m \u001b[1m26s\u001b[0m 584ms/step - accuracy: 0.7868 - loss: 0.4194 - val_accuracy: 0.5311 - val_loss: 1.2583\n",
      "Epoch 8/10\n",
      "\u001b[1m45/45\u001b[0m \u001b[32m━━━━━━━━━━━━━━━━━━━━\u001b[0m\u001b[37m\u001b[0m \u001b[1m26s\u001b[0m 585ms/step - accuracy: 0.7960 - loss: 0.4465 - val_accuracy: 0.5311 - val_loss: 1.8552\n",
      "Epoch 9/10\n",
      "\u001b[1m45/45\u001b[0m \u001b[32m━━━━━━━━━━━━━━━━━━━━\u001b[0m\u001b[37m\u001b[0m \u001b[1m27s\u001b[0m 604ms/step - accuracy: 0.7639 - loss: 0.4298 - val_accuracy: 0.5311 - val_loss: 2.1125\n",
      "Epoch 10/10\n",
      "\u001b[1m45/45\u001b[0m \u001b[32m━━━━━━━━━━━━━━━━━━━━\u001b[0m\u001b[37m\u001b[0m \u001b[1m27s\u001b[0m 600ms/step - accuracy: 0.7866 - loss: 0.3739 - val_accuracy: 0.5311 - val_loss: 1.8862\n"
     ]
    },
    {
     "data": {
      "text/plain": [
       "<keras.src.callbacks.history.History at 0x213ea6da680>"
      ]
     },
     "execution_count": 45,
     "metadata": {},
     "output_type": "execute_result"
    }
   ],
   "source": [
    "model.fit(X_train, y_train,validation_data=(X_val,y_val), epochs=10)"
   ]
  },
  {
   "cell_type": "code",
   "execution_count": 42,
   "id": "c1d6289f-4932-4dc5-9ab7-fd21b87a4a7c",
   "metadata": {},
   "outputs": [
    {
     "data": {
      "text/plain": [
       "[<matplotlib.lines.Line2D at 0x213ea63dba0>]"
      ]
     },
     "execution_count": 42,
     "metadata": {},
     "output_type": "execute_result"
    },
    {
     "data": {
      "image/png": "[encoded data removed]",
      "text/plain": [
       "<Figure size 640x480 with 1 Axes>"
      ]
     },
     "metadata": {},
     "output_type": "display_data"
    }
   ],
   "source": [
    "plt.plot(model.history.history['loss'])\n",
    "plt.plot(model.history.history['val_loss'])"
   ]
  },
  {
   "cell_type": "code",
   "execution_count": null,
   "id": "a1c463e3-083c-4fb1-a2b8-5c4434ed3b2c",
   "metadata": {},
   "outputs": [],
   "source": []
  }
 ],
 "metadata": {
  "kernelspec": {
   "display_name": "Python 3 (ipykernel)",
   "language": "python",
   "name": "python3"
  },
  "language_info": {
   "codemirror_mode": {
    "name": "ipython",
    "version": 3
   },
   "file_extension": ".py",
   "mimetype": "text/x-python",
   "name": "python",
   "nbconvert_exporter": "python",
   "pygments_lexer": "ipython3",
   "version": "3.10.3"
  }
 },
 "nbformat": 4,
 "nbformat_minor": 5
}
