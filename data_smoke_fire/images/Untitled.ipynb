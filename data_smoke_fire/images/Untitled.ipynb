{
 "cells": [
  {
   "cell_type": "code",
   "execution_count": 2,
   "id": "1b3e3d2b-8abd-4ca0-99bf-30597e405a05",
   "metadata": {},
   "outputs": [],
   "source": [
    "import numpy as np\n",
    "import pandas as pd\n",
    "import seaborn as sns\n",
    "import matplotlib.pyplot as plt\n",
    "import matplotlib.image as mpimg\n",
    "import os\n",
    "import cv2"
   ]
  },
  {
   "cell_type": "code",
   "execution_count": 4,
   "id": "3dc093b6-915a-4f66-9eeb-e5394f0ac1e6",
   "metadata": {},
   "outputs": [],
   "source": [
    "X_train = []\n",
    "y_train = []\n",
    "\n",
    "for i in os.listdir('images/train/'):\n",
    "    try:\n",
    "        image = cv2.imread(f'images/train/{i}')\n",
    "        image = cv2.cvtColor(image,cv2.colorChange)\n",
    "        image = cv2.resize(image,(250,250))\n",
    "        image = image.reshape(250,250,1)\n",
    "        X_train.append(image)\n",
    "        y_tr"
   ]
  },
  {
   "cell_type": "code",
   "execution_count": null,
   "id": "6793bb59-f77f-4760-9bf6-7b226f0b43e6",
   "metadata": {},
   "outputs": [],
   "source": []
  }
 ],
 "metadata": {
  "kernelspec": {
   "display_name": "Python 3 (ipykernel)",
   "language": "python",
   "name": "python3"
  },
  "language_info": {
   "codemirror_mode": {
    "name": "ipython",
    "version": 3
   },
   "file_extension": ".py",
   "mimetype": "text/x-python",
   "name": "python",
   "nbconvert_exporter": "python",
   "pygments_lexer": "ipython3",
   "version": "3.10.3"
  }
 },
 "nbformat": 4,
 "nbformat_minor": 5
}
